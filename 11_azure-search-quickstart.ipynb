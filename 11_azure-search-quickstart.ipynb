{
 "cells": [
  {
   "attachments": {},
   "cell_type": "markdown",
   "metadata": {},
   "source": [
    "# AISearch01 - Create a search index in Azure AI Search"
   ]
  },
  {
   "attachments": {},
   "cell_type": "markdown",
   "metadata": {},
   "source": [
    "This notebook steps through creating, loading, and querying an index in Azure AI Search index by calling the azure-search-documents library in the Azure SDK for Python. "
   ]
  },
  {
   "cell_type": "markdown",
   "metadata": {},
   "source": [
    "## Install packages and set variables"
   ]
  },
  {
   "cell_type": "code",
   "execution_count": 19,
   "metadata": {},
   "outputs": [],
   "source": [
    "! pip install azure-search-documents==11.6.0b12 --quiet\n",
    "! pip install azure-identity --quiet\n",
    "! pip install python-dotenv --quiet"
   ]
  },
  {
   "cell_type": "code",
   "execution_count": 20,
   "metadata": {},
   "outputs": [],
   "source": [
    "# Load environment variables from .env file\n",
    "# This allows us to keep sensitive information like API keys separate from code\n",
    "from dotenv import load_dotenv\n",
    "from azure.identity import DefaultAzureCredential, get_bearer_token_provider\n",
    "import os\n",
    "\n",
    "load_dotenv(override=True) # Take environment variables from .env file\n",
    "\n",
    "# Provide variables for Azure AI Search connection\n",
    "# These should be set in your .env file for security\n",
    "search_endpoint = os.environ[\"AZURE_SEARCH_ENDPOINT\"]  # Your search service URL\n",
    "search_api_key = os.environ[\"AZURE_SEARCH_API_KEY\"]    # Admin API key for full access\n",
    "index_name: str = \"11_hotels-quickstart-csharp\"        # Name for our search index"
   ]
  },
  {
   "cell_type": "markdown",
   "metadata": {},
   "source": [
    "## Create an index"
   ]
  },
  {
   "cell_type": "code",
   "execution_count": 21,
   "metadata": {},
   "outputs": [
    {
     "name": "stdout",
     "output_type": "stream",
     "text": [
      " 11_hotels-quickstart-csharp created\n"
     ]
    }
   ],
   "source": [
    "# Import AzureKeyCredential for authenticating with Azure Search\n",
    "from azure.core.credentials import AzureKeyCredential\n",
    "\n",
    "# Create a credential object using your Azure Search API key\n",
    "# This will be used to authenticate all requests to the search service\n",
    "credential = AzureKeyCredential(search_api_key)\n",
    "\n",
    "# Import necessary Azure Search SDK classes\n",
    "from azure.search.documents.indexes import SearchIndexClient\n",
    "from azure.search.documents import SearchClient\n",
    "from azure.search.documents.indexes.models import (\n",
    "    ComplexField,      # For nested/complex fields in the schema (like Address)\n",
    "    SimpleField,       # For simple fields (string, int, etc.)\n",
    "    SearchFieldDataType, # Enum for field data types\n",
    "    SearchableField,   # For fields that should be full-text searchable\n",
    "    SearchIndex        # The index definition object\n",
    ")\n",
    "\n",
    "# Create a search index client to manage indexes\n",
    "# This client is used for index management operations (create, update, delete)\n",
    "index_client = SearchIndexClient(\n",
    "    endpoint=search_endpoint, credential=credential)\n",
    "\n",
    "# Define the fields for the hotel index\n",
    "# Each field defines how data will be stored and searched\n",
    "fields = [\n",
    "    # Primary key field - must be unique for each document\n",
    "    SimpleField(name=\"HotelId\", type=SearchFieldDataType.String, key=True),\n",
    "    \n",
    "    # Hotel name - searchable and sortable for easy finding and ordering\n",
    "    SearchableField(name=\"HotelName\", type=SearchFieldDataType.String, sortable=True),\n",
    "    \n",
    "    # Description - full-text searchable with English language analyzer for better search results\n",
    "    SearchableField(name=\"Description\", type=SearchFieldDataType.String, analyzer_name=\"en.lucene\"),\n",
    "    \n",
    "    # Category - can be used for faceting (grouping), filtering, and sorting\n",
    "    SearchableField(name=\"Category\", type=SearchFieldDataType.String, facetable=True, filterable=True, sortable=True),\n",
    "    \n",
    "    # Tags - collection of strings, useful for faceting and filtering by amenities\n",
    "    SearchableField(name=\"Tags\", collection=True, type=SearchFieldDataType.String, facetable=True, filterable=True),\n",
    "    \n",
    "    # Boolean field for parking availability - can be used in filters and facets\n",
    "    SimpleField(name=\"ParkingIncluded\", type=SearchFieldDataType.Boolean, facetable=True, filterable=True, sortable=True),\n",
    "    \n",
    "    # Date field for renovation date - useful for filtering recent renovations\n",
    "    SimpleField(name=\"LastRenovationDate\", type=SearchFieldDataType.DateTimeOffset, facetable=True, filterable=True, sortable=True),\n",
    "    \n",
    "    # Numeric rating field - perfect for sorting and filtering by quality\n",
    "    SimpleField(name=\"Rating\", type=SearchFieldDataType.Double, facetable=True, filterable=True, sortable=True),\n",
    "    \n",
    "    # Complex field containing nested address information\n",
    "    ComplexField(name=\"Address\", fields=[\n",
    "        SearchableField(name=\"StreetAddress\", type=SearchFieldDataType.String),\n",
    "        SearchableField(name=\"City\", type=SearchFieldDataType.String, facetable=True, filterable=True, sortable=True),\n",
    "        SearchableField(name=\"StateProvince\", type=SearchFieldDataType.String, facetable=True, filterable=True, sortable=True),\n",
    "        SearchableField(name=\"PostalCode\", type=SearchFieldDataType.String, facetable=True, filterable=True, sortable=True),\n",
    "        SearchableField(name=\"Country\", type=SearchFieldDataType.String, facetable=True, filterable=True, sortable=True),\n",
    "    ])\n",
    "]\n",
    "\n",
    "# Scoring profiles can be used to boost certain fields or apply custom ranking\n",
    "scoring_profiles = []\n",
    "\n",
    "# Suggester enables autocomplete and search suggestions\n",
    "# These fields will be used to provide search suggestions to users\n",
    "suggester = [{'name': 'sg', 'source_fields': ['Tags', 'Address/City', 'Address/Country']}]\n",
    "\n",
    "# Create the search index with all defined components\n",
    "index = SearchIndex(name=index_name, fields=fields, suggesters=suggester, scoring_profiles=scoring_profiles)\n",
    "result = index_client.create_or_update_index(index)\n",
    "print(f' {result.name} created')"
   ]
  },
  {
   "cell_type": "markdown",
   "metadata": {},
   "source": [
    "[Checkpoint 1]\n",
    "![alt text](Image\\image1.png)"
   ]
  },
  {
   "attachments": {},
   "cell_type": "markdown",
   "metadata": {},
   "source": [
    "## Create a documents payload"
   ]
  },
  {
   "cell_type": "code",
   "execution_count": 22,
   "metadata": {},
   "outputs": [],
   "source": [
    "# Create a documents payload\n",
    "# Each document represents a hotel with all the fields we defined in our index schema\n",
    "# The \"@search.action\" field tells Azure Search what to do with each document\n",
    "documents = [\n",
    "    {\n",
    "    \"@search.action\": \"upload\",  # Upload action adds or updates the document\n",
    "    \"HotelId\": \"1\",             # Unique identifier for this hotel\n",
    "    \"HotelName\": \"Stay-Kay City Hotel\",\n",
    "    \"Description\": \"This classic hotel is fully-refurbished and ideally located on the main commercial artery of the city in the heart of New York. A few minutes away is Times Square and the historic centre of the city, as well as other places of interest that make New York one of America's most attractive and cosmopolitan cities.\",\n",
    "    \"Category\": \"Boutique\",      # Hotel category for faceting/filtering\n",
    "    \"Tags\": [ \"view\", \"air conditioning\", \"concierge\" ],  # Array of amenities\n",
    "    \"ParkingIncluded\": \"false\",  # Boolean value as string\n",
    "    \"LastRenovationDate\": \"2020-01-18T00:00:00Z\",  # ISO 8601 date format\n",
    "    \"Rating\": 3.60,             # Numeric rating out of 5\n",
    "    \"Address\": {                # Nested object containing address details\n",
    "        \"StreetAddress\": \"677 5th Ave\",\n",
    "        \"City\": \"New York\",\n",
    "        \"StateProvince\": \"NY\",\n",
    "        \"PostalCode\": \"10022\",\n",
    "        \"Country\": \"USA\"\n",
    "        }\n",
    "    },\n",
    "    {\n",
    "    \"@search.action\": \"upload\",\n",
    "    \"HotelId\": \"2\",\n",
    "    \"HotelName\": \"Old Century Hotel\",\n",
    "    \"Description\": \"The hotel is situated in a nineteenth century plaza, which has been expanded and renovated to the highest architectural standards to create a modern, functional and first-class hotel in which art and unique historical elements coexist with the most modern comforts. The hotel also regularly hosts events like wine tastings, beer dinners, and live music.\",\n",
    "    \"Category\": \"Boutique\",\n",
    "    \"Tags\": [ \"pool\", \"free wifi\", \"concierge\" ],  # Different amenities for variety\n",
    "    \"ParkingIncluded\": \"false\",\n",
    "    \"LastRenovationDate\": \"2019-02-18T00:00:00Z\",\n",
    "    \"Rating\": 3.60,\n",
    "    \"Address\": {\n",
    "        \"StreetAddress\": \"140 University Town Center Dr\",\n",
    "        \"City\": \"Sarasota\",       # Different city for geographic diversity\n",
    "        \"StateProvince\": \"FL\",\n",
    "        \"PostalCode\": \"34243\",\n",
    "        \"Country\": \"USA\"\n",
    "        }\n",
    "    },\n",
    "    {\n",
    "    \"@search.action\": \"upload\",\n",
    "    \"HotelId\": \"3\",\n",
    "    \"HotelName\": \"Gastronomic Landscape Hotel\",\n",
    "    \"Description\": \"The Gastronomic Hotel stands out for its culinary excellence under the management of William Dough, who advises on and oversees all of the Hotel's restaurant services.\",\n",
    "    \"Category\": \"Suite\",          # Different category to demonstrate faceting\n",
    "    \"Tags\": [ \"restaurant\", \"bar\", \"continental breakfast\" ],  # Food-focused amenities\n",
    "    \"ParkingIncluded\": \"true\",    # This hotel includes parking\n",
    "    \"LastRenovationDate\": \"2015-09-20T00:00:00Z\",\n",
    "    \"Rating\": 4.80,              # Higher rating for filtering examples\n",
    "    \"Address\": {\n",
    "        \"StreetAddress\": \"3393 Peachtree Rd\",\n",
    "        \"City\": \"Atlanta\",\n",
    "        \"StateProvince\": \"GA\",\n",
    "        \"PostalCode\": \"30326\",\n",
    "        \"Country\": \"USA\"\n",
    "        }\n",
    "    },\n",
    "    {\n",
    "    \"@search.action\": \"upload\",\n",
    "    \"HotelId\": \"4\",\n",
    "    \"HotelName\": \"Sublime Palace Hotel\",\n",
    "    \"Description\": \"Sublime Palace Hotel is located in the heart of the historic center of Sublime in an extremely vibrant and lively area within short walking distance to the sites and landmarks of the city and is surrounded by the extraordinary beauty of churches, buildings, shops and monuments. Sublime Cliff is part of a lovingly restored 19th century resort, updated for every modern convenience.\",\n",
    "    \"Category\": \"Boutique\",\n",
    "    \"Tags\": [ \"concierge\", \"view\", \"air conditioning\" ],\n",
    "    \"ParkingIncluded\": \"true\",\n",
    "    \"LastRenovationDate\": \"2020-02-06T00:00:00Z\",\n",
    "    \"Rating\": 4.60,              # Another high-rated hotel\n",
    "    \"Address\": {\n",
    "        \"StreetAddress\": \"7400 San Pedro Ave\",\n",
    "        \"City\": \"San Antonio\",\n",
    "        \"StateProvince\": \"TX\",\n",
    "        \"PostalCode\": \"78216\",\n",
    "        \"Country\": \"USA\"\n",
    "        }\n",
    "    }\n",
    "]"
   ]
  },
  {
   "cell_type": "markdown",
   "metadata": {},
   "source": [
    "## Upload documents"
   ]
  },
  {
   "cell_type": "code",
   "execution_count": 23,
   "metadata": {},
   "outputs": [
    {
     "name": "stdout",
     "output_type": "stream",
     "text": [
      "Upload of new document succeeded: True\n"
     ]
    }
   ],
   "source": [
    "# Create a search client for document operations (different from index management)\n",
    "# This client is used for searching, uploading, and managing documents within an index\n",
    "search_client = SearchClient(endpoint=search_endpoint,\n",
    "                      index_name=index_name,\n",
    "                      credential=credential)\n",
    "\n",
    "# Upload documents to the search index\n",
    "# This operation adds all our hotel documents to the search index\n",
    "try:\n",
    "    result = search_client.upload_documents(documents=documents)\n",
    "    print(\"Upload of new document succeeded: {}\".format(result[0].succeeded))\n",
    "except Exception as ex:\n",
    "    print (ex.message)\n",
    "\n",
    "    # Re-initialize index client if needed (this seems like leftover code)\n",
    "    index_client = SearchIndexClient(\n",
    "    endpoint=search_endpoint, credential=credential)"
   ]
  },
  {
   "cell_type": "markdown",
   "metadata": {},
   "source": [
    "[Checkpoint 2]\n",
    "![alt text](Image\\image2.png)"
   ]
  },
  {
   "attachments": {},
   "cell_type": "markdown",
   "metadata": {},
   "source": [
    "## Run your first query"
   ]
  },
  {
   "cell_type": "code",
   "execution_count": 24,
   "metadata": {},
   "outputs": [
    {
     "name": "stdout",
     "output_type": "stream",
     "text": [
      "Total Documents Matching Query: 4\n",
      "1.0\n",
      "Gastronomic Landscape Hotel\n",
      "['restaurant', 'bar', 'continental breakfast']\n",
      "Description: The Gastronomic Hotel stands out for its culinary excellence under the management of William Dough, who advises on and oversees all of the Hotel's restaurant services.\n",
      "1.0\n",
      "Old Century Hotel\n",
      "['pool', 'free wifi', 'concierge']\n",
      "Description: The hotel is situated in a nineteenth century plaza, which has been expanded and renovated to the highest architectural standards to create a modern, functional and first-class hotel in which art and unique historical elements coexist with the most modern comforts. The hotel also regularly hosts events like wine tastings, beer dinners, and live music.\n",
      "1.0\n",
      "Sublime Palace Hotel\n",
      "['concierge', 'view', 'air conditioning']\n",
      "Description: Sublime Palace Hotel is located in the heart of the historic center of Sublime in an extremely vibrant and lively area within short walking distance to the sites and landmarks of the city and is surrounded by the extraordinary beauty of churches, buildings, shops and monuments. Sublime Cliff is part of a lovingly restored 19th century resort, updated for every modern convenience.\n",
      "1.0\n",
      "Stay-Kay City Hotel\n",
      "['view', 'air conditioning', 'concierge']\n",
      "Description: This classic hotel is fully-refurbished and ideally located on the main commercial artery of the city in the heart of New York. A few minutes away is Times Square and the historic centre of the city, as well as other places of interest that make New York one of America's most attractive and cosmopolitan cities.\n"
     ]
    }
   ],
   "source": [
    "# Run an empty query (returns selected fields, all documents)\n",
    "# The \"*\" search text matches all documents in the index\n",
    "# This is useful for getting an overview of all data\n",
    "results =  search_client.search(query_type='simple',\n",
    "    search_text=\"*\" ,                                    # \"*\" means match all documents\n",
    "    select='HotelName,Description,Tags',                 # Only return these specific fields\n",
    "    include_total_count=True)                            # Include total count in results\n",
    "\n",
    "print ('Total Documents Matching Query:', results.get_count())\n",
    "for result in results:\n",
    "    print(result[\"@search.score\"])      # Relevance score (all will be 1.0 for \"*\" queries)\n",
    "    print(result[\"HotelName\"])          # Hotel name\n",
    "    print(result[\"Tags\"])               # Array of amenities/tags\n",
    "    print(f\"Description: {result['Description']}\")  # Hotel description"
   ]
  },
  {
   "attachments": {},
   "cell_type": "markdown",
   "metadata": {},
   "source": [
    "## Run a term query"
   ]
  },
  {
   "cell_type": "code",
   "execution_count": 25,
   "metadata": {},
   "outputs": [
    {
     "name": "stdout",
     "output_type": "stream",
     "text": [
      "Total Documents Matching Query: 1\n",
      "0.6931472\n",
      "Old Century Hotel\n",
      "Description: The hotel is situated in a nineteenth century plaza, which has been expanded and renovated to the highest architectural standards to create a modern, functional and first-class hotel in which art and unique historical elements coexist with the most modern comforts. The hotel also regularly hosts events like wine tastings, beer dinners, and live music.\n"
     ]
    }
   ],
   "source": [
    "# Run a term query - search for documents containing specific terms\n",
    "# This demonstrates full-text search capabilities across searchable fields\n",
    "results =  search_client.search(query_type='simple',\n",
    "    search_text=\"wifi\" ,                                 # Search for the term \"wifi\"\n",
    "    select='HotelName,Description,Tags',                 # Return only these fields\n",
    "    include_total_count=True)                            # Include total matching count\n",
    "\n",
    "print ('Total Documents Matching Query:', results.get_count())\n",
    "for result in results:\n",
    "    print(result[\"@search.score\"])                       # Higher scores = better matches\n",
    "    print(result[\"HotelName\"])                           # Hotel name\n",
    "    print(f\"Description: {result['Description']}\")      # Description (may contain \"wifi\")"
   ]
  },
  {
   "attachments": {},
   "cell_type": "markdown",
   "metadata": {},
   "source": [
    "## Add a filter"
   ]
  },
  {
   "cell_type": "code",
   "execution_count": 26,
   "metadata": {},
   "outputs": [
    {
     "name": "stdout",
     "output_type": "stream",
     "text": [
      "3: Gastronomic Landscape Hotel - 4.8 rating\n",
      "4: Sublime Palace Hotel - 4.6 rating\n"
     ]
    }
   ],
   "source": [
    "# Add a filter to narrow down search results\n",
    "# Demonstrates combining search text with filters and sorting\n",
    "results = search_client.search(\n",
    "    search_text=\"hotels\",                    # Search for \"hotels\" in searchable fields\n",
    "    select='HotelId,HotelName,Rating',       # Return only these specific fields\n",
    "    filter='Rating gt 4',                   # Filter: only hotels with rating > 4.0\n",
    "    order_by='Rating desc')                 # Sort by rating in descending order (highest first)\n",
    "\n",
    "# Display results showing only high-rated hotels\n",
    "for result in results:\n",
    "    print(\"{}: {} - {} rating\".format(result[\"HotelId\"], result[\"HotelName\"], result[\"Rating\"]))"
   ]
  },
  {
   "attachments": {},
   "cell_type": "markdown",
   "metadata": {},
   "source": [
    "## Scope a query to specific searchable fields"
   ]
  },
  {
   "cell_type": "code",
   "execution_count": 27,
   "metadata": {},
   "outputs": [
    {
     "name": "stdout",
     "output_type": "stream",
     "text": [
      "4: Sublime Palace Hotel\n"
     ]
    }
   ],
   "source": [
    "# Scope a query to specific searchable fields\n",
    "# This limits the search to only look in the HotelName field, not all searchable fields\n",
    "results = search_client.search(\n",
    "    search_text=\"sublime\",                   # Search term to find\n",
    "    search_fields=['HotelName'],             # Only search within HotelName field\n",
    "    select='HotelId,HotelName')              # Return only ID and name\n",
    "\n",
    "# This will only find hotels with \"sublime\" in their name\n",
    "for result in results:\n",
    "    print(\"{}: {}\".format(result[\"HotelId\"], result[\"HotelName\"]))"
   ]
  },
  {
   "attachments": {},
   "cell_type": "markdown",
   "metadata": {},
   "source": [
    "## Return facets"
   ]
  },
  {
   "cell_type": "code",
   "execution_count": 28,
   "metadata": {},
   "outputs": [
    {
     "name": "stdout",
     "output_type": "stream",
     "text": [
      "Hotel categories and their counts:\n",
      "    {'value': 'Boutique', 'count': 3}\n",
      "    {'value': 'Suite', 'count': 1}\n"
     ]
    }
   ],
   "source": [
    "# Return facets - useful for building search navigation/filters\n",
    "# Facets provide counts of documents grouped by field values\n",
    "# This is commonly used to show filter options in search UIs\n",
    "results = search_client.search(search_text=\"*\", facets=[\"Category\"])\n",
    "\n",
    "# Get the facet results for the Category field\n",
    "facets = results.get_facets()\n",
    "\n",
    "# Display each category and how many hotels belong to it\n",
    "print(\"Hotel categories and their counts:\")\n",
    "for facet in facets[\"Category\"]:\n",
    "    print(\"    {}\".format(facet))  # Shows category name and document count"
   ]
  },
  {
   "attachments": {},
   "cell_type": "markdown",
   "metadata": {},
   "source": [
    "## Look up a document "
   ]
  },
  {
   "cell_type": "code",
   "execution_count": 29,
   "metadata": {},
   "outputs": [
    {
     "name": "stdout",
     "output_type": "stream",
     "text": [
      "Details for hotel '3' are:\n",
      "Name: Gastronomic Landscape Hotel\n",
      "Rating: 4.8\n",
      "Category: Suite\n"
     ]
    }
   ],
   "source": [
    "# Look up a specific document by its key (HotelId)\n",
    "# This is the fastest way to retrieve a document when you know its unique identifier\n",
    "# No search scoring or ranking is involved - it's a direct document retrieval\n",
    "result = search_client.get_document(key=\"3\")  # Get hotel with ID \"3\"\n",
    "\n",
    "print(\"Details for hotel '3' are:\")\n",
    "print(\"Name: {}\".format(result[\"HotelName\"]))\n",
    "print(\"Rating: {}\".format(result[\"Rating\"]))\n",
    "print(\"Category: {}\".format(result[\"Category\"]))"
   ]
  },
  {
   "attachments": {},
   "cell_type": "markdown",
   "metadata": {},
   "source": [
    "## Autocomplete a query"
   ]
  },
  {
   "cell_type": "code",
   "execution_count": 30,
   "metadata": {},
   "outputs": [
    {
     "name": "stdout",
     "output_type": "stream",
     "text": [
      "Autocomplete for: sa\n",
      "san antonio\n",
      "sarasota\n"
     ]
    }
   ],
   "source": [
    "# Autocomplete a query - provides search suggestions as the user types\n",
    "# This uses the suggester we defined earlier with Tags, City, and Country fields\n",
    "# Very useful for improving user experience in search applications\n",
    "search_suggestion = 'sa'  # Partial input from user\n",
    "results = search_client.autocomplete(\n",
    "    search_text=search_suggestion,     # The partial text to complete\n",
    "    suggester_name=\"sg\",               # Use our \"sg\" suggester defined in index\n",
    "    mode='twoTerms')                   # Return up to two-term suggestions\n",
    "\n",
    "print(\"Autocomplete for:\", search_suggestion)\n",
    "# Display suggested completions (like \"San Antonio\", \"Sarasota\", etc.)\n",
    "for result in results:\n",
    "    print (result['text'])"
   ]
  },
  {
   "attachments": {},
   "cell_type": "markdown",
   "metadata": {},
   "source": [
    "## Clean up\n",
    "\n",
    "If you are finished with this index, you can delete it by running the following lines. Deleting unnecessary indexes frees up space for stepping through more quickstarts and tutorials."
   ]
  },
  {
   "cell_type": "code",
   "execution_count": 31,
   "metadata": {},
   "outputs": [
    {
     "name": "stdout",
     "output_type": "stream",
     "text": [
      "Index 11_hotels-quickstart-csharp Deleted\n"
     ]
    }
   ],
   "source": [
    "# Clean up - delete the index to free up space and avoid charges\n",
    "# This is important in demo/tutorial scenarios to prevent accumulating test indexes\n",
    "# In production, you would typically keep your indexes unless truly no longer needed\n",
    "try:\n",
    "    result = index_client.delete_index(index_name)\n",
    "    print ('Index', index_name, 'Deleted')\n",
    "except Exception as ex:\n",
    "    print (ex)"
   ]
  },
  {
   "attachments": {},
   "cell_type": "markdown",
   "metadata": {},
   "source": [
    "Confirm the index deletion by running the following script that lists all of the indexes on your search service. If hotels-quickstart is not listed, you've successfully deleted the index and have completed this quickstart."
   ]
  },
  {
   "cell_type": "code",
   "execution_count": 32,
   "metadata": {},
   "outputs": [
    {
     "name": "stdout",
     "output_type": "stream",
     "text": [
      "Index successfully deleted - it no longer exists\n"
     ]
    }
   ],
   "source": [
    "# Verify that the index has been successfully deleted\n",
    "# This will throw an exception if the index no longer exists, confirming deletion\n",
    "try:\n",
    "    result = index_client.get_index(index_name)\n",
    "    print (\"Index still exists:\", result)\n",
    "except Exception as ex:\n",
    "    print (\"Index successfully deleted - it no longer exists\")"
   ]
  }
 ],
 "metadata": {
  "kernelspec": {
   "display_name": ".venv",
   "language": "python",
   "name": "python3"
  },
  "language_info": {
   "codemirror_mode": {
    "name": "ipython",
    "version": 3
   },
   "file_extension": ".py",
   "mimetype": "text/x-python",
   "name": "python",
   "nbconvert_exporter": "python",
   "pygments_lexer": "ipython3",
   "version": "3.13.5"
  }
 },
 "nbformat": 4,
 "nbformat_minor": 2
}
