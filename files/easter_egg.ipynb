{
 "cells": [
  {
   "cell_type": "markdown",
   "id": "6c41b924",
   "metadata": {},
   "source": [
    "### Azure AI Agent with MCP Tools\n",
    "This notebook provides setup and usage instructions for the Azure AI Agent repository, including environment setup, configuration, and running examples.\n",
    "\n",
    "##### Project Download\n",
    "\n",
    "* Download the repository:\n",
    "    ```bash\n",
    "    git clone https://github.com/ownway22/azure-ai-agent.git\n",
    "    ```\n",
    "\n",
    "* Navigate to the project folder:\n",
    "    ```bash\n",
    "    cd azure-ai-agent\n",
    "    ```\n",
    "\n",
    "### Don’t let anyone else in on this Easter egg.”"
   ]
  }
 ],
 "metadata": {
  "language_info": {
   "name": "python"
  }
 },
 "nbformat": 4,
 "nbformat_minor": 5
}
