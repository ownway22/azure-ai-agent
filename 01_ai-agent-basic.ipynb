{
 "cells": [
  {
   "cell_type": "markdown",
   "id": "98fefd2d",
   "metadata": {},
   "source": [
    "# Quick Start: Azure AI Foundry SDK"
   ]
  },
  {
   "cell_type": "markdown",
   "id": "5837b92b",
   "metadata": {},
   "source": [
    "### 01 Create a new agent\n",
    "##### Azure AI Foundry Agent Service allows you to create AI agents tailored to your needs through custom instructions and augmented by advanced tools like code interpreter, and custom functions."
   ]
  },
  {
   "cell_type": "code",
   "execution_count": 1,
   "id": "7f2c8a03",
   "metadata": {},
   "outputs": [
    {
     "name": "stdout",
     "output_type": "stream",
     "text": [
      "('c:\\\\Users\\\\Yu-Hong (Frank) '\n",
      " 'Lin\\\\Repos\\\\azure-ai-agent\\\\.venv\\\\Scripts\\\\python.exe')\n"
     ]
    }
   ],
   "source": [
    "# --- Standard Library Imports ---\n",
    "import os\n",
    "import sys\n",
    "import pprint\n",
    "\n",
    "# --- Azure AI Foundry SDK for AI agents and services ---\n",
    "from azure.ai.agents.models import CodeInterpreterTool, FilePurpose, FileSearchTool, ListSortOrder\n",
    "from azure.ai.projects import AIProjectClient\n",
    "from azure.identity import DefaultAzureCredential\n",
    "from dotenv import load_dotenv\n",
    "\n",
    "load_dotenv()\n",
    "\n",
    "pprint.pp(sys.executable)"
   ]
  },
  {
   "cell_type": "code",
   "execution_count": null,
   "id": "c18dba12",
   "metadata": {},
   "outputs": [
    {
     "name": "stdout",
     "output_type": "stream",
     "text": [
      "Created agent, ID: asst_NOGmu371G90oELLj2DbXOlMa\n",
      "Created thread, ID: thread_6o4mHMTq7B2U2xdUViMWt80C\n",
      "Created message, ID: msg_dO3o2JwaRScBBlkuZbtKHIgg\n",
      "Run finished with status: RunStatus.COMPLETED\n",
      "Role: MessageRole.AGENT, Content: [{'type': 'text', 'text': {'value': \"I don't have current internet access, so I cannot retrieve live weather updates for Seattle. However, you can check the weather using services like Google Weather, AccuWeather, or a weather app on your device for an up-to-date forecast.\\n\\nIf you'd like general climate info about Seattle or help understanding a forecast, feel free to ask!\", 'annotations': []}}]\n",
      "Role: MessageRole.USER, Content: [{'type': 'text', 'text': {'value': 'What is the weather in Seattle today?', 'annotations': []}}]\n"
     ]
    }
   ],
   "source": [
    "# You need to login to Azure subscription via Azure CLI first\n",
    "\n",
    "# Create an AIProjectClient instance\n",
    "project_client = AIProjectClient(\n",
    "    endpoint=os.environ[\"PROJECT_ENDPOINT\"],  # Project endpoint from environment variable\n",
    "    credential=DefaultAzureCredential(),      # Use Azure Default Credential for authentication\n",
    ")\n",
    "\n",
    "code_interpreter = CodeInterpreterTool()\n",
    "with project_client:\n",
    "    agent = project_client.agents.create_agent(\n",
    "        model=os.environ[\"MODEL_DEPLOYMENT_NAME\"],  # Model deployment name\n",
    "        name=\"my-agent\",                            # Name of the agent\n",
    "        instructions=\"You are a helpful agent\",     # Instructions for the agent\n",
    "        tools=code_interpreter.definitions,         # Attach the tool\n",
    "    )\n",
    "    print(f\"Created agent, ID: {agent.id}\")\n",
    "\n",
    "    # Create a thread for communication\n",
    "    thread = project_client.agents.threads.create()\n",
    "    print(f\"Created thread, ID: {thread.id}\")\n",
    "    \n",
    "    # Add a message to the thread\n",
    "    message = project_client.agents.messages.create(\n",
    "        thread_id=thread.id,\n",
    "        role=\"user\",                                      # Role of the message sender\n",
    "        content=\"What is the weather in Seattle today?\",  # Message content\n",
    "    )\n",
    "    print(f\"Created message, ID: {message['id']}\")\n",
    "    \n",
    "    # Create and process an agent run\n",
    "    run = project_client.agents.runs.create_and_process(thread_id=thread.id, agent_id=agent.id)\n",
    "    print(f\"Run finished with status: {run.status}\")\n",
    "    \n",
    "    # Check if the run failed\n",
    "    if run.status == \"failed\":\n",
    "        print(f\"Run failed: {run.last_error}\")\n",
    "    \n",
    "    # Fetch and log all messages\n",
    "    messages = project_client.agents.messages.list(thread_id=thread.id)\n",
    "    for message in messages:\n",
    "        print(f\"Role: {message.role}, Content: {message.content}\")"
   ]
  },
  {
   "cell_type": "markdown",
   "id": "cc0b1282",
   "metadata": {},
   "source": [
    "### 02 Listing AI Project Agents"
   ]
  },
  {
   "cell_type": "code",
   "execution_count": null,
   "id": "6e137470",
   "metadata": {},
   "outputs": [
    {
     "name": "stdout",
     "output_type": "stream",
     "text": [
      "{'id': 'asst_NOGmu371G90oELLj2DbXOlMa', 'object': 'assistant', 'created_at': 1752763579, 'name': 'my-agent', 'description': None, 'model': 'gpt-4o', 'instructions': 'You are a helpful agent', 'tools': [{'type': 'code_interpreter'}], 'top_p': 1.0, 'temperature': 1.0, 'tool_resources': {'code_interpreter': {'file_ids': []}}, 'metadata': {}, 'response_format': 'auto'}\n",
      "{'id': 'asst_jASK1GS6htj8mrQZnBDAb7nw', 'object': 'assistant', 'created_at': 1752763369, 'name': 'my-agent', 'description': None, 'model': 'gpt-4o', 'instructions': 'You are a helpful agent', 'tools': [{'type': 'code_interpreter'}], 'top_p': 1.0, 'temperature': 1.0, 'tool_resources': {'code_interpreter': {'file_ids': []}}, 'metadata': {}, 'response_format': 'auto'}\n",
      "{'id': 'asst_lXR1U4CTAZRGiR1Xc7dm7ZPu', 'object': 'assistant', 'created_at': 1752763201, 'name': 'my-agent', 'description': None, 'model': 'gpt-4o', 'instructions': 'You are a helpful agent', 'tools': [{'type': 'code_interpreter'}], 'top_p': 1.0, 'temperature': 1.0, 'tool_resources': {'code_interpreter': {'file_ids': []}}, 'metadata': {}, 'response_format': 'auto'}\n",
      "{'id': 'asst_5AxmBWaHQU15oY4KhQHn260a', 'object': 'assistant', 'created_at': 1751955283, 'name': '_01_系統規劃師 Agent', 'description': '整體專案協調者與系統需求分析師', 'model': 'gpt-4o', 'instructions': '# 角色 (Role):\\n你是整體專案協調者與系統需求分析師，負責收集並分析使用者輸入的意圖與需求，將工作任務拆解並分派給其他 Agent，追蹤各 Agent 執行情況，並彙整回饋。\\n\\n# 任務 (Task):\\n1. 收集並分析使用者輸入的意圖與需求\\n2. 將工作任務拆解並分派給其他 Agent\\n3. 追蹤各 Agent 執行情況，並彙整回饋。注意，務必將「_05_系統架構師 Agent」提供可點擊下載的檔案連結也提供給使用者\\n\\n# 目標 (Goal):\\n確保任務高效流轉、跨 Agent 協作順暢，快速且準確地滿足使用者需求', 'tools': [{'type': 'connected_agent', 'connected_agent': {'name': 'digital_expert_agent', 'description': '當任務有數位通知相關知識或任務時，呼叫這個agent', 'id': 'asst_2UXhjRRlmnOEG0DOFrEOGq85'}}, {'type': 'connected_agent', 'connected_agent': {'name': 'BIAN_expert_agent', 'description': '當任務有BIAN業務相關知識或任務時，呼叫這個agent', 'id': 'asst_ol3NC5N3qNG9luONIdpncNr7'}}, {'type': 'connected_agent', 'connected_agent': {'name': 'channel_expert_agent', 'description': '當任務有通路活動相關知識或任務時，呼叫這個agent', 'id': 'asst_1Op4GmbDgpU8icbqTn0AG8rw'}}, {'type': 'connected_agent', 'connected_agent': {'name': 'system_architect_agent', 'description': '當任務有設計和繪畫解決方案的系統架構圖時，先取得其他agent的回饋，再整理完所有資訊以後才呼叫這個agent提供系統架構圖', 'id': 'asst_60a2pONpFoAPVQM6TOCM6Rpp'}}], 'top_p': 1.0, 'temperature': 1.0, 'tool_resources': {}, 'metadata': {}, 'response_format': 'auto'}\n",
      "{'id': 'asst_60a2pONpFoAPVQM6TOCM6Rpp', 'object': 'assistant', 'created_at': 1751900274, 'name': '_05_系統架構師 Agent', 'description': '專業系統架構設計師', 'model': 'gpt-4.1', 'instructions': '# 角色 (Role):\\n你是專業系統架構設計師，負責根據使用者場景與需求，設計系統整體架構，使用 GraphViz 套件和 UTF-8 編碼的 DOT 程式碼繪製清晰、結構化的架構圖（PNG 格式），並附上各組件說明與流程解讀。\\n\\n# 任務 (Task):\\n1. 接收並解析由「_01_系統規劃師 Agent」傳遞的使用者場景與具體需求。  \\n2. 根據需求，撰寫或調整 UTF-8 編碼的 DOT 程式碼，描述系統的組件、關係與流程。  \\n3. 使用 GraphViz 將 DOT 程式碼渲染為 PNG 檔案，內容請使用英文，並提供該 PNG 檔案的下載連結。  \\n4. 在回覆中，依序說明 PNG 檔案的位置(附上下載連結）、系統架構圖的解讀\\n\\n# 目標 (Goal):\\n提供視覺化的系統架構圖，協助「_01_系統規劃師 Agent」或使用者理解系統架構\\n', 'tools': [{'type': 'code_interpreter'}], 'top_p': 1.0, 'temperature': 1.0, 'tool_resources': {'code_interpreter': {'file_ids': []}}, 'metadata': {}, 'response_format': 'auto'}\n",
      "{'id': 'asst_1Op4GmbDgpU8icbqTn0AG8rw', 'object': 'assistant', 'created_at': 1751891469, 'name': '_04_通路活動專家 Agent', 'description': '銀行通路行銷活動領域專家', 'model': 'gpt-4o', 'instructions': '# 角色 (Role):\\n你是銀行通路行銷活動領域專家。\\n\\n# 任務 (Task):\\n1. 接收來自「_01_系統規劃師 Agent」或使用者的指令或問題。\\n2. 在指定的 RAG (檢索增強生成) 知識庫中，檢索關於銀行各通路 (分行、網銀、App) 行銷活動的相關文件與資料。\\n3. 基於檢索到的內容，生成精準的回覆以解答使用者問題，或提供專業回饋給其他 Agent。\\n\\n# 目標 (Goal):\\n利用內部知識庫，提供最準確、最相關的通路行銷活動資訊、規範與解決方案。', 'tools': [{'type': 'file_search'}, {'type': 'code_interpreter'}], 'top_p': 1.0, 'temperature': 1.0, 'tool_resources': {'file_search': {'vector_store_ids': ['vs_vZWTg867UFmZXTQfBexwLtQd']}, 'code_interpreter': {'file_ids': []}}, 'metadata': {}, 'response_format': 'auto'}\n",
      "{'id': 'asst_ol3NC5N3qNG9luONIdpncNr7', 'object': 'assistant', 'created_at': 1751889524, 'name': '_02_BIAN專家 Agent', 'description': 'BIAN (銀行產業架構網路) 業務架構標準專家', 'model': 'gpt-4o', 'instructions': '# 角色 (Role):\\n你是BIAN (銀行產業架構網路) 業務架構標準專家。\\n\\n# 任務 (Task):\\n1. 接收來自「_01_系統規劃師 Agent」或使用者的指令或問題。\\n2. 在指定的 RAG 知識庫中，檢索關於 BIAN 標準、銀行業務流程模型、服務領域 (Service Domain) 的相關文件。\\n3. 基於檢索到的內容，生成專業的回覆以解答使用者問題，或對系統設計提供符合 BIAN 規範的回饋。\\n\\n# 目標 (Goal):\\n提供關於銀行業務架構的權威性解答與建議，確保業務流程與系統設計符合 BIAN 國際標準。', 'tools': [{'type': 'file_search'}, {'type': 'code_interpreter'}, {'type': 'azure_ai_search'}, {'type': 'openapi', 'openapi': {'name': 'SendEmail', 'description': None, 'spec': {'openapi': '3.0.3', 'info': {'version': '1.0.0.0', 'title': 'Email', 'description': '當使用者請求將某些說明、教材或問答內容寄送到指定信箱時'}, 'servers': [{'url': 'https://prod-61.eastus2.logic.azure.com/workflows/8c5b85dbed0c4e0fa380eacf150c5674/triggers/When_a_HTTP_request_is_received/paths'}], 'security': [{'sig': []}], 'paths': {'/invoke': {'post': {'description': '當使用者請求將某些說明、教材或問答內容寄送到指定信箱時', 'operationId': 'When_a_HTTP_request_is_received-invoke', 'parameters': [{'name': 'api-version', 'in': 'query', 'description': '`2016-10-01` is the most common generally available version', 'required': True, 'schema': {'type': 'string', 'default': '2016-10-01'}, 'example': '2016-10-01'}, {'name': 'sv', 'in': 'query', 'description': 'The version number', 'required': True, 'schema': {'type': 'string', 'default': '1.0'}, 'example': '1.0'}, {'name': 'sp', 'in': 'query', 'description': 'The permissions', 'required': True, 'schema': {'type': 'string', 'default': '%2Ftriggers%2FWhen_a_HTTP_request_is_received%2Frun'}, 'example': '%2Ftriggers%2FWhen_a_HTTP_request_is_received%2Frun'}], 'responses': {'200': {'description': 'The Logic App Response.', 'content': {'application/json': {'schema': {'type': 'object'}}}}, 'default': {'description': 'The Logic App Response.', 'content': {'application/json': {'schema': {'type': 'object'}}}}}, 'deprecated': False, 'requestBody': {'content': {'application/json': {'schema': {'type': 'object', 'properties': {'email_to': {'type': 'string'}, 'email_subject': {'type': 'string'}, 'email_body': {'type': 'string'}}}}}, 'required': True}}}}, 'components': {'securitySchemes': {'sig': {'type': 'apiKey', 'description': 'The SHA 256 hash of the entire request URI with an internal key.', 'name': 'sig', 'in': 'query'}}}}, 'auth': {'type': 'connection', 'security_scheme': {'connection_id': '/subscriptions/68b29697-86f8-481c-9e61-1e1be870cefc/resourceGroups/rg-workshop-eastus2/providers/Microsoft.CognitiveServices/accounts/finarch-multiagent-resource/projects/finarch-multiagent/connections/LogicApps_Tool_Connection_Email_5147'}}, 'functions': [{'name': 'SendEmail_When_a_HTTP_request_is_received-invoke', 'description': '當使用者請求將某些說明、教材或問答內容寄送到指定信箱時', 'parameters': {'type': 'object', 'properties': {'email_to': {'type': 'string'}, 'email_subject': {'type': 'string'}, 'email_body': {'type': 'string'}}}}], 'default_params': ['api-version', 'sp', 'sv']}, 'tags': ['logicapps']}], 'top_p': 1.0, 'temperature': 1.0, 'tool_resources': {'file_search': {'vector_store_ids': ['vs_PlAMb8EFwaZDjkKEutJIchVE']}, 'code_interpreter': {'file_ids': []}, 'azure_ai_search': {'indexes': [{'index_connection_id': None, 'index_name': None, 'query_type': 'vector_semantic_hybrid', 'top_k': 5, 'filter': None, 'index_asset_id': 'responsible-ai/versions/1'}]}}, 'metadata': {}, 'response_format': 'auto'}\n",
      "{'id': 'asst_2UXhjRRlmnOEG0DOFrEOGq85', 'object': 'assistant', 'created_at': 1751889027, 'name': '_03_數位通知專家 Agent', 'description': '數位通知服務與技術規格專家', 'model': 'gpt-4o', 'instructions': '# 角色 (Role):\\n你是數位通知服務與技術規格專家。\\n\\n# 任務 (Task):\\n1. 接收來自「_01_系統規劃師 Agent」或使用者的指令或問題。\\n2. 在指定的 RAG 知識庫中，檢索關於數位通知服務 (如交易提醒、行銷推播) 的技術規格、法規遵循、API 格式與實作細節。\\n3. 基於檢索到的內容，生成詳盡的回覆以解答使用者問題，或提供技術回饋給其他 Agent。\\n\\n# 目標 (Goal):\\n提供關於數位通知服務精確、可靠的技術細節與業務資訊，以支援相關功能開發與查詢。', 'tools': [{'type': 'file_search'}], 'top_p': 1.0, 'temperature': 1.0, 'tool_resources': {'file_search': {'vector_store_ids': ['vs_AqVWkDr2LAPaSA4X7UKASHR8']}}, 'metadata': {}, 'response_format': 'auto'}\n"
     ]
    }
   ],
   "source": [
    "project_client = AIProjectClient(\n",
    "    endpoint=os.environ[\"PROJECT_ENDPOINT\"],\n",
    "    credential=DefaultAzureCredential(),  \n",
    ")\n",
    "\n",
    "# List the agents\n",
    "with project_client:\n",
    "    \n",
    "    agent_list = project_client.agents.list_agents()\n",
    "    for _agent in agent_list:\n",
    "        print(_agent)"
   ]
  },
  {
   "cell_type": "markdown",
   "id": "04bfbca1",
   "metadata": {},
   "source": [
    "### 03 Deleting an Agent from AI Project Client"
   ]
  },
  {
   "cell_type": "code",
   "execution_count": null,
   "id": "b7493ad0",
   "metadata": {},
   "outputs": [],
   "source": [
    "project_client = AIProjectClient(\n",
    "    endpoint=os.environ[\"PROJECT_ENDPOINT\"],\n",
    "    credential=DefaultAzureCredential(),  \n",
    ")\n",
    "\n",
    "# Delete the agent when done\n",
    "with project_client:\n",
    "    project_client.agents.delete_agent(agent.id)\n",
    "    print(\"Deleted agent\")"
   ]
  },
  {
   "cell_type": "markdown",
   "id": "ad41cf66",
   "metadata": {},
   "source": [
    "---"
   ]
  },
  {
   "cell_type": "markdown",
   "id": "214c17a4",
   "metadata": {},
   "source": [
    "##### Reference: [Create a new Azure AI Foundry Agent Service project - Azure AI Foundry | Microsoft Learn](https://learn.microsoft.com/en-us/azure/ai-foundry/agents/quickstart?pivots=programming-language-python-azure)"
   ]
  }
 ],
 "metadata": {
  "kernelspec": {
   "display_name": "azure-ai-agent",
   "language": "python",
   "name": "python3"
  },
  "language_info": {
   "codemirror_mode": {
    "name": "ipython",
    "version": 3
   },
   "file_extension": ".py",
   "mimetype": "text/x-python",
   "name": "python",
   "nbconvert_exporter": "python",
   "pygments_lexer": "ipython3",
   "version": "3.11.12"
  }
 },
 "nbformat": 4,
 "nbformat_minor": 5
}
